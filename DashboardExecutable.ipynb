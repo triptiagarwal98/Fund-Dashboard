{
 "cells": [
  {
   "cell_type": "markdown",
   "id": "1f748f9f",
   "metadata": {},
   "source": [
    "# 0.) Importing necessary packages"
   ]
  },
  {
   "cell_type": "code",
   "execution_count": 2,
   "id": "41182041",
   "metadata": {},
   "outputs": [],
   "source": [
    "from flask import Flask\n",
    "from dash import Dash, html, dash_table, dcc, callback, Output, Input\n",
    "import plotly.express as px\n",
    "import pandas as pd"
   ]
  },
  {
   "cell_type": "markdown",
   "id": "94c3df44",
   "metadata": {},
   "source": [
    "# 1.) Read in CSV file with all return values"
   ]
  },
  {
   "cell_type": "code",
   "execution_count": 12,
   "id": "f52ba837",
   "metadata": {},
   "outputs": [
    {
     "data": {
      "text/html": [
       "<div>\n",
       "<style scoped>\n",
       "    .dataframe tbody tr th:only-of-type {\n",
       "        vertical-align: middle;\n",
       "    }\n",
       "\n",
       "    .dataframe tbody tr th {\n",
       "        vertical-align: top;\n",
       "    }\n",
       "\n",
       "    .dataframe thead th {\n",
       "        text-align: right;\n",
       "    }\n",
       "</style>\n",
       "<table border=\"1\" class=\"dataframe\">\n",
       "  <thead>\n",
       "    <tr style=\"text-align: right;\">\n",
       "      <th></th>\n",
       "      <th>Fund</th>\n",
       "      <th>1yr</th>\n",
       "      <th>2yr</th>\n",
       "      <th>3yr</th>\n",
       "      <th>7yr</th>\n",
       "      <th>10yr</th>\n",
       "    </tr>\n",
       "  </thead>\n",
       "  <tbody>\n",
       "    <tr>\n",
       "      <th>0</th>\n",
       "      <td>fundOIEIX</td>\n",
       "      <td>-1.381160</td>\n",
       "      <td>2.387870</td>\n",
       "      <td>13.965800</td>\n",
       "      <td>9.51689</td>\n",
       "      <td>9.74620</td>\n",
       "    </tr>\n",
       "    <tr>\n",
       "      <th>1</th>\n",
       "      <td>fundJLGRX</td>\n",
       "      <td>-0.273622</td>\n",
       "      <td>-5.528020</td>\n",
       "      <td>13.373300</td>\n",
       "      <td>17.27030</td>\n",
       "      <td>15.43520</td>\n",
       "    </tr>\n",
       "    <tr>\n",
       "      <th>2</th>\n",
       "      <td>fundJGASX</td>\n",
       "      <td>-3.220000</td>\n",
       "      <td>-6.962650</td>\n",
       "      <td>13.188900</td>\n",
       "      <td>15.64010</td>\n",
       "      <td>15.41170</td>\n",
       "    </tr>\n",
       "    <tr>\n",
       "      <th>3</th>\n",
       "      <td>fundFBGRX</td>\n",
       "      <td>-2.847750</td>\n",
       "      <td>-9.802180</td>\n",
       "      <td>13.703600</td>\n",
       "      <td>16.00340</td>\n",
       "      <td>15.42590</td>\n",
       "    </tr>\n",
       "    <tr>\n",
       "      <th>4</th>\n",
       "      <td>fundPEMPX</td>\n",
       "      <td>-2.740400</td>\n",
       "      <td>-7.565150</td>\n",
       "      <td>0.412597</td>\n",
       "      <td>1.95308</td>\n",
       "      <td>1.18070</td>\n",
       "    </tr>\n",
       "    <tr>\n",
       "      <th>5</th>\n",
       "      <td>fundGSCGX</td>\n",
       "      <td>1.827580</td>\n",
       "      <td>-0.958647</td>\n",
       "      <td>13.804900</td>\n",
       "      <td>12.67770</td>\n",
       "      <td>12.31420</td>\n",
       "    </tr>\n",
       "    <tr>\n",
       "      <th>6</th>\n",
       "      <td>fundGGOIX</td>\n",
       "      <td>-1.157030</td>\n",
       "      <td>-10.960600</td>\n",
       "      <td>8.801320</td>\n",
       "      <td>10.41230</td>\n",
       "      <td>9.93794</td>\n",
       "    </tr>\n",
       "    <tr>\n",
       "      <th>7</th>\n",
       "      <td>fundVEIPX</td>\n",
       "      <td>0.179058</td>\n",
       "      <td>4.590800</td>\n",
       "      <td>14.507700</td>\n",
       "      <td>9.83061</td>\n",
       "      <td>10.08030</td>\n",
       "    </tr>\n",
       "    <tr>\n",
       "      <th>8</th>\n",
       "      <td>fundGPIRX</td>\n",
       "      <td>-1.338140</td>\n",
       "      <td>-3.203880</td>\n",
       "      <td>6.810770</td>\n",
       "      <td>5.33730</td>\n",
       "      <td>4.60770</td>\n",
       "    </tr>\n",
       "    <tr>\n",
       "      <th>9</th>\n",
       "      <td>fundVIVIX</td>\n",
       "      <td>-0.507799</td>\n",
       "      <td>3.665700</td>\n",
       "      <td>14.941200</td>\n",
       "      <td>10.06130</td>\n",
       "      <td>10.31860</td>\n",
       "    </tr>\n",
       "  </tbody>\n",
       "</table>\n",
       "</div>"
      ],
      "text/plain": [
       "        Fund       1yr        2yr        3yr       7yr      10yr\n",
       "0  fundOIEIX -1.381160   2.387870  13.965800   9.51689   9.74620\n",
       "1  fundJLGRX -0.273622  -5.528020  13.373300  17.27030  15.43520\n",
       "2  fundJGASX -3.220000  -6.962650  13.188900  15.64010  15.41170\n",
       "3  fundFBGRX -2.847750  -9.802180  13.703600  16.00340  15.42590\n",
       "4  fundPEMPX -2.740400  -7.565150   0.412597   1.95308   1.18070\n",
       "5  fundGSCGX  1.827580  -0.958647  13.804900  12.67770  12.31420\n",
       "6  fundGGOIX -1.157030 -10.960600   8.801320  10.41230   9.93794\n",
       "7  fundVEIPX  0.179058   4.590800  14.507700   9.83061  10.08030\n",
       "8  fundGPIRX -1.338140  -3.203880   6.810770   5.33730   4.60770\n",
       "9  fundVIVIX -0.507799   3.665700  14.941200  10.06130  10.31860"
      ]
     },
     "execution_count": 12,
     "metadata": {},
     "output_type": "execute_result"
    }
   ],
   "source": [
    "returns = pd.read_csv('returns.csv')\n",
    "returns.drop('Unnamed: 0', axis=1, inplace=True)\n",
    "returns"
   ]
  },
  {
   "cell_type": "markdown",
   "id": "ca9d97f1",
   "metadata": {},
   "source": [
    "# 2.) Creating UI Dashboard function"
   ]
  },
  {
   "cell_type": "code",
   "execution_count": 13,
   "id": "f62aa9ee",
   "metadata": {},
   "outputs": [],
   "source": [
    "def create_dashboard():\n",
    "    returns_trial = returns.set_index('Fund')\n",
    "    returns_transposed = returns_trial.T\n",
    "    df1 = returns_transposed.reset_index()\n",
    "    df1 = df1.rename(columns={'index': 'period'}).rename_axis(None, axis=1)\n",
    "    \n",
    "    tickers_ = [df1.columns[1:][i][4:] for i in range(len(df1.columns[1:]))]   #for checkbox display\n",
    "    \n",
    "    # Incorporate data\n",
    "    funds = df1.columns[1:]\n",
    "    options = [{\"label\": tickers_[i], \"value\": funds[i]} for i, _ in enumerate(funds)]\n",
    "\n",
    "    # Initialize the app\n",
    "    app = Dash(__name__)\n",
    "\n",
    "    # App layout\n",
    "    app.layout = html.Div([\n",
    "        html.H1('Mutual Funds - Annualized Returns'),\n",
    "        html.Hr(),\n",
    "        dcc.Checklist(options=options,inline=True, value=['fundOIEIX'],id='checklist'),\n",
    "        html.Br(),\n",
    "        dash_table.DataTable(data=df1.to_dict('records')),\n",
    "        dcc.Graph(figure={}, id='controls-and-graph')           \n",
    "    ])\n",
    "\n",
    "    # Add controls to build the interaction\n",
    "    @callback(\n",
    "        Output(component_id='controls-and-graph', component_property='figure'),\n",
    "        Input(component_id='checklist', component_property='value')\n",
    "    )\n",
    "    def update_graph(col_chosen):\n",
    "        colors = px.colors.sequential.Blues\n",
    "        fig = px.histogram(df1, x='period', y=col_chosen, histfunc='avg',\n",
    "                           color_discrete_sequence=colors[8:3:-1])\n",
    "        fig.update_layout(\n",
    "        barmode='group',\n",
    "        bargroupgap=0.2,\n",
    "        xaxis=dict(title='Period'),\n",
    "        yaxis=dict(title='Annualized Returns'),\n",
    "        legend_title_text='Funds'\n",
    "    )\n",
    "        return fig\n",
    "\n",
    "    # Run the app\n",
    "    if __name__ == '__main__':\n",
    "        app.run_server()"
   ]
  },
  {
   "cell_type": "markdown",
   "id": "c043c17b",
   "metadata": {},
   "source": [
    "# 3.) Running UI\n",
    "\n",
    "Click on the link generated and explore the data!"
   ]
  },
  {
   "cell_type": "code",
   "execution_count": 16,
   "id": "11d06420",
   "metadata": {},
   "outputs": [
    {
     "name": "stdout",
     "output_type": "stream",
     "text": [
      "Dash is running on http://127.0.0.1:8050/\n",
      "\n",
      " * Serving Flask app \"__main__\" (lazy loading)\n",
      " * Environment: production\n",
      "\u001b[31m   WARNING: This is a development server. Do not use it in a production deployment.\u001b[0m\n",
      "\u001b[2m   Use a production WSGI server instead.\u001b[0m\n",
      " * Debug mode: off\n"
     ]
    },
    {
     "name": "stderr",
     "output_type": "stream",
     "text": [
      " * Running on http://127.0.0.1:8050/ (Press CTRL+C to quit)\n"
     ]
    }
   ],
   "source": [
    "create_dashboard()"
   ]
  },
  {
   "cell_type": "code",
   "execution_count": null,
   "id": "c558ec75",
   "metadata": {},
   "outputs": [],
   "source": []
  }
 ],
 "metadata": {
  "kernelspec": {
   "display_name": "Python 3 (ipykernel)",
   "language": "python",
   "name": "python3"
  },
  "language_info": {
   "codemirror_mode": {
    "name": "ipython",
    "version": 3
   },
   "file_extension": ".py",
   "mimetype": "text/x-python",
   "name": "python",
   "nbconvert_exporter": "python",
   "pygments_lexer": "ipython3",
   "version": "3.9.13"
  }
 },
 "nbformat": 4,
 "nbformat_minor": 5
}
