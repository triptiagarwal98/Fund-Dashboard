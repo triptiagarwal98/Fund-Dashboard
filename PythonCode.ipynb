{
 "cells": [
  {
   "cell_type": "markdown",
   "id": "2bf6ebce",
   "metadata": {},
   "source": [
    "# Project and Data Description"
   ]
  },
  {
   "cell_type": "markdown",
   "id": "87df59c3",
   "metadata": {},
   "source": [
    "#### AIM: \n",
    "Set up a database to store data of 10 mutual funds and optimize the format/schema to store this data. Build a query to calculate 1/2/3/7- and 10-year annualized return of each mutual fund and store that in the database. Finally, showcase the same using a UI form.\n",
    "\n",
    "This project can be scaled to automatically update databases on a daily basis based on new market data and host the UI in an accessible manner (publicly or just privately within a firm) to use the returns value for fund analysis. It can also be scaled to include other fund metrics and ultimately, build a fund analysis tool.\n",
    "\n",
    "#### DATA:\n",
    "This project is designed to take data as a user input. However, just for testing, I have used the following ten funds to build my database and UI.\n",
    "\n",
    "- JPMorgan Equity Income Fund (OIEIX)\n",
    "- JPMorgan Large Cap Growth Fund (JLGRX)\n",
    "- JPMorgan Growth Advantage Fund (JGASX)\n",
    "- Fidelity Blue Chip Growth Fund (FBGRX)\n",
    "- PIMCO Emerging Markets Bond Fund (PEMPX)\n",
    "- Goldman Sachs Large Cap Core Fund (GSCGX)\n",
    "- Goldman Sachs Mid Cap Growth Fund (GGOIX)\n",
    "- Vanguard Equity Income Fund (VEIPX)\n",
    "- Goldman Sachs Growth and Income Strategy Portfolio (GPIRX)\n",
    "- Vanguard Value Index Fund (VIVIX)\n",
    "\n",
    "The data being used for each fund is the daily Adjusted Close price. I have used Adjused Close as it represents the closing price after adjusting for splits and dividends. Thus, it gives a more complete picture compared to Closing Price."
   ]
  },
  {
   "cell_type": "markdown",
   "id": "35adad7e",
   "metadata": {},
   "source": [
    "# 0.) Import Required Packages"
   ]
  },
  {
   "cell_type": "code",
   "execution_count": 1,
   "id": "cc602570",
   "metadata": {},
   "outputs": [],
   "source": [
    "import yfinance as yf\n",
    "import matplotlib.pyplot as plt\n",
    "import pandas as pd\n",
    "import numpy as np\n",
    "import datetime\n",
    "import pymysql\n",
    "from datetime import timedelta\n",
    "from dateutil.relativedelta import relativedelta\n",
    "from flask import Flask\n",
    "from dash import Dash, html, dash_table, dcc, callback, Output, Input\n",
    "import plotly.express as px"
   ]
  },
  {
   "cell_type": "markdown",
   "id": "7739fbc8",
   "metadata": {},
   "source": [
    "# 1.) Database Creation\n",
    "\n",
    "This function creates a new database on your local MySQL connection to store the data of ten selected mutual funds."
   ]
  },
  {
   "cell_type": "markdown",
   "id": "cd9bba9b",
   "metadata": {},
   "source": [
    "##### It requires the following inputs:\n",
    "- A list of ticker values for your choice of mutual funds.\n",
    "- Password for your localhost SQL connection.\n",
    "\n",
    "##### The function goes through the following steps:\n",
    "1. Pulls data from Yahoo Finance for the selected tickers and converts them into monthly data.\n",
    "2. Creates a new database in SQL.\n",
    "3. Creates a new table to store mutual fund data.\n",
    "4. Inserts data from Yahoo Finance into the table in a long format.\n",
    "\n",
    "##### Format Optimization:\n",
    "- The mutual funds data is stored in a single long format table to optimize storage.\n",
    "- I tried creating 10 different tables, one for each fund. However, such a schema would make it hard to retrieve data for all funds at the same time for the same date. It would also not be dynamic and each fund addition would require the creation of a new table. This would not be optimal in the case of say, 100 funds!\n",
    "\n",
    "_Why long format?_\n",
    "- This format is more dynamic when considering updating with new data as it just appends such data. For ex: new funds or new dates for same funds.\n",
    "- This format is faster to load and requires less storage since creates only one table instead of 10.\n",
    "- It is also easy to access data by using 'where' clause on a selected ticker.\n",
    "\n",
    "\n"
   ]
  },
  {
   "cell_type": "code",
   "execution_count": 376,
   "id": "0b28e22f",
   "metadata": {},
   "outputs": [],
   "source": [
    "# Select your fund tickers\n",
    "tickers = [\"OIEIX\",\"JLGRX\",\"JGASX\",\"FBGRX\", \"PEMPX\", \"GSCGX\", \"GGOIX\", \"VEIPX\", \"GPIRX\", \"VIVIX\"]\n",
    "\n",
    "# Enter password for your local MySQL connection\n",
    "#password = '###'"
   ]
  },
  {
   "cell_type": "code",
   "execution_count": 375,
   "id": "7e4a07cb",
   "metadata": {},
   "outputs": [],
   "source": [
    "def create_db(tickers):\n",
    "    #creating data dictionary to pull data from yahoo finance\n",
    "    data = {}\n",
    "    for t in tickers:\n",
    "        daily = yf.download(t)[[\"Adj Close\"]]\n",
    "        #converting to monthly data\n",
    "        data[f'fund{t}'] = daily.resample('M').mean()\n",
    "    \n",
    "    #establishing sql connection\n",
    "    endpoint = 'localhost'\n",
    "    username = 'root'\n",
    "    connection = pymysql.connections.Connection(host=endpoint,\n",
    "                                                user=username,\n",
    "                                                password=password)\n",
    "\n",
    "    #creating new database in local connection\n",
    "    connection.cursor().execute(\"CREATE DATABASE IF NOT EXISTS Funds\")\n",
    "    connection.commit()\n",
    "\n",
    "    connection.cursor().execute(\"USE Funds\")\n",
    "    connection.commit()\n",
    "\n",
    "    #creating a long format table with all funds' data\n",
    "    tbname = \"funds\"\n",
    "    table_query = \"CREATE TABLE IF NOT EXISTS {} (Date date, Adj_Close FLOAT, Ticker VARCHAR(255))\".format(tbname)\n",
    "    connection.cursor().execute(table_query)\n",
    "    connection.commit()\n",
    "\n",
    "    for fund in data:\n",
    "        unindexed = data[fund].reset_index()\n",
    "        ticker_val = str(fund)\n",
    "        for i in range(len(data[fund])):\n",
    "            sql = \"INSERT INTO {} (Date, Adj_Close, Ticker) VALUES (%s,%s,%s)\".format(tbname)\n",
    "            date_value = unindexed.iloc[i, 0].strftime('%Y-%m-%d')\n",
    "            connection.cursor().execute(sql, (date_value, unindexed.iloc[i,1], ticker_val))\n",
    "            connection.commit()"
   ]
  },
  {
   "cell_type": "code",
   "execution_count": 377,
   "id": "aea5e805",
   "metadata": {},
   "outputs": [
    {
     "name": "stdout",
     "output_type": "stream",
     "text": [
      "[*********************100%***********************]  1 of 1 completed\n",
      "[*********************100%***********************]  1 of 1 completed\n",
      "[*********************100%***********************]  1 of 1 completed\n",
      "[*********************100%***********************]  1 of 1 completed\n",
      "[*********************100%***********************]  1 of 1 completed\n",
      "[*********************100%***********************]  1 of 1 completed\n",
      "[*********************100%***********************]  1 of 1 completed\n",
      "[*********************100%***********************]  1 of 1 completed\n",
      "[*********************100%***********************]  1 of 1 completed\n",
      "[*********************100%***********************]  1 of 1 completed\n"
     ]
    }
   ],
   "source": [
    "# Execution\n",
    "create_db(tickers)"
   ]
  },
  {
   "cell_type": "markdown",
   "id": "877666cc",
   "metadata": {},
   "source": [
    "Check your SQL database and explore the data!"
   ]
  },
  {
   "cell_type": "markdown",
   "id": "a073535f",
   "metadata": {},
   "source": [
    "# 2.) Annualized Returns Summary"
   ]
  },
  {
   "cell_type": "markdown",
   "id": "4a4ed0cd",
   "metadata": {},
   "source": [
    "#### Annualized Return calculator\n",
    "Defining a function to take in user defined dataframe containing fund NAVs and user defined time period to calculate annualized returns."
   ]
  },
  {
   "cell_type": "code",
   "execution_count": 378,
   "id": "3b539f08",
   "metadata": {},
   "outputs": [],
   "source": [
    "def annualized(fund, year):\n",
    "    end_date = fund.index[-1].strftime(\"%Y-%m-%d\")\n",
    "    start_date = (fund.index[-1] - relativedelta(years=year)).strftime(\"%Y-%m-%d\")\n",
    "    \n",
    "    start_val = fund.loc[start_date:end_date].iloc[0,0]\n",
    "    end_val = fund.loc[start_date:end_date].iloc[-1,0]\n",
    "    \n",
    "    return ((end_val/start_val)**(1/year) - 1 )*100"
   ]
  },
  {
   "cell_type": "markdown",
   "id": "051d378d",
   "metadata": {},
   "source": [
    "#### Query to store returns summary in the database\n",
    "This function queries data from previously created funds table in SQL, calculates annualized returns for given time periods and store the same back in the database as a new table."
   ]
  },
  {
   "cell_type": "code",
   "execution_count": 380,
   "id": "6e834ea5",
   "metadata": {},
   "outputs": [],
   "source": [
    "def create_returns():\n",
    "    connection.cursor().execute(\"USE funds\")\n",
    "    connection.commit()\n",
    "    \n",
    "    #creating new table to store annualized returns for all funds\n",
    "    connection.cursor().execute(\"CREATE TABLE IF NOT EXISTS returns (Fund varchar(255), 1yr FLOAT, 2yr FLOAT, 3yr FLOAT, 7yr FLOAT, 10yr FLOAT)\")\n",
    "    connection.commit()\n",
    "    \n",
    "    for t in tickers:\n",
    "        fund = f'fund{t}'\n",
    "        cursor = connection.cursor()\n",
    "        select = \"SELECT * FROM funds WHERE Ticker =(%s)\"   #slicing table\n",
    "        cursor.execute(select,fund)\n",
    "        result = cursor.fetchall()\n",
    "        \n",
    "        #converting sql output into table for calculations\n",
    "        data2 = pd.DataFrame(result, columns=['Date', 'Adj_Close', 'Ticker'])\n",
    "        data2['Date'] = pd.to_datetime(data2['Date'])\n",
    "        data2.set_index('Date', inplace=True)\n",
    "        \n",
    "        #returns calculations\n",
    "        yr1 = annualized(data2, 1)\n",
    "        yr2 = annualized(data2, 2)\n",
    "        yr3 = annualized(data2, 3)\n",
    "        yr7 = annualized(data2, 7)\n",
    "        yr10 = annualized(data2, 10)\n",
    "    \n",
    "        #storing into database\n",
    "        sql = \"INSERT INTO returns (Fund, 1yr,2yr,3yr,7yr,10yr) VALUES (%s,%s,%s,%s,%s,%s)\"\n",
    "        connection.cursor().execute(sql, (fund, yr1, yr2, yr3, yr7, yr10))\n",
    "        connection.commit()"
   ]
  },
  {
   "cell_type": "code",
   "execution_count": 381,
   "id": "1e8dc92b",
   "metadata": {},
   "outputs": [],
   "source": [
    "# Execution\n",
    "create_returns()"
   ]
  },
  {
   "cell_type": "markdown",
   "id": "4f9517cf",
   "metadata": {},
   "source": [
    "# 3.) UI Creation"
   ]
  },
  {
   "cell_type": "markdown",
   "id": "426dc759",
   "metadata": {},
   "source": [
    "##### This function does the following:\n",
    "1. Calls returns table from local database into Python for UI creation.\n",
    "2. Formats SQL table into pandas dataframe.\n",
    "3. Builds an App based on Dash to display the returns table and build an interactive chart using plotly to allow the user to select different funds and view their return distributions. This app has a checkbox feature which allows multiple selections simultaneously, updating the chart in real time.\n",
    "    - You can refer to the attached video/gif to understand how it works.\n",
    "    - There is also an executable python script in this repository which allows to explore the live dashboard (please download the 'returns' CSV file before execution).\n",
    "4. Finally, hosts the UI display locally using Flask."
   ]
  },
  {
   "cell_type": "code",
   "execution_count": 382,
   "id": "9745df2b",
   "metadata": {},
   "outputs": [],
   "source": [
    "def create_dashboard():\n",
    "    connection.cursor().execute(\"USE funds\")\n",
    "    connection.commit()\n",
    "    \n",
    "    #calling returns table from sql\n",
    "    cursor = connection.cursor()\n",
    "    cursor.execute(\"SELECT * FROM returns\")\n",
    "    result = cursor.fetchall()\n",
    "    \n",
    "    #converting to pandas format\n",
    "    returns = pd.DataFrame(result, columns=['Fund', '1yr','2yr','3yr','7yr','10yr'])\n",
    "    returns_trial = returns.set_index('Fund')\n",
    "    returns_transposed = returns_trial.T\n",
    "    df1 = returns_transposed.reset_index()\n",
    "    df1 = df1.rename(columns={'index': 'period'}).rename_axis(None, axis=1)\n",
    "    \n",
    "    #for checkbox display\n",
    "    tickers_ = [df1.columns[1:][i][4:] for i in range(len(df1.columns[1:]))]\n",
    "    funds = df1.columns[1:]\n",
    "    options = [{\"label\": tickers_[i], \"value\": funds[i]} for i, _ in enumerate(funds)]\n",
    "\n",
    "    # Initialize the app\n",
    "    app = Dash(__name__)\n",
    "\n",
    "    # App layout\n",
    "    app.layout = html.Div([\n",
    "        html.H1('Mutual Funds - Annualized Returns'),\n",
    "        html.Hr(),\n",
    "        dcc.Checklist(options=options,inline=True, value=['fundOIEIX'],id='checklist'),\n",
    "        #inline=True for horizontal checkboxes\n",
    "        #'value' is default selection\n",
    "        html.Br(),\n",
    "        dash_table.DataTable(data=df1.to_dict('records')),\n",
    "        dcc.Graph(figure={}, id='controls-and-graph')     \n",
    "            #id names are used for callback and inetraction\n",
    "    ])     #figure here is empty because it'll display based on user selection/default\n",
    "\n",
    "    # Add controls to build the interaction\n",
    "    @callback(\n",
    "        Output(component_id='controls-and-graph', component_property='figure'),\n",
    "        Input(component_id='checklist', component_property='value')\n",
    "    )\n",
    "    def update_graph(col_chosen):\n",
    "        colors = px.colors.sequential.Blues\n",
    "        fig = px.histogram(df1, x='period', y=col_chosen, histfunc='avg',\n",
    "                           color_discrete_sequence=colors[8:3:-1])\n",
    "        fig.update_layout(\n",
    "        barmode='group',\n",
    "        bargroupgap=0.2,\n",
    "        xaxis=dict(title='Period'),\n",
    "        yaxis=dict(title='Annualized Returns'),\n",
    "        legend_title_text='Funds'\n",
    "    )\n",
    "        return fig\n",
    "\n",
    "    # Run the app\n",
    "    if __name__ == '__main__':\n",
    "        app.run_server()"
   ]
  },
  {
   "cell_type": "code",
   "execution_count": 383,
   "id": "57b73a00",
   "metadata": {},
   "outputs": [
    {
     "name": "stdout",
     "output_type": "stream",
     "text": [
      "Dash is running on http://127.0.0.1:8050/\n",
      "\n",
      " * Serving Flask app \"__main__\" (lazy loading)\n",
      " * Environment: production\n",
      "\u001b[31m   WARNING: This is a development server. Do not use it in a production deployment.\u001b[0m\n",
      "\u001b[2m   Use a production WSGI server instead.\u001b[0m\n",
      " * Debug mode: off\n"
     ]
    }
   ],
   "source": [
    "# Execution\n",
    "create_dashboard()"
   ]
  },
  {
   "cell_type": "markdown",
   "id": "66ab786f",
   "metadata": {},
   "source": [
    "# 4.) Appendix\n",
    "\n",
    "This section has code that was tried and not used for final execution. It also contains a few generic outputs generated during project building and is displayed here to understand what the data looks like."
   ]
  },
  {
   "cell_type": "code",
   "execution_count": 7,
   "id": "0ef239ba",
   "metadata": {},
   "outputs": [
    {
     "name": "stdout",
     "output_type": "stream",
     "text": [
      "[*********************100%***********************]  1 of 1 completed\n"
     ]
    },
    {
     "data": {
      "text/html": [
       "<div>\n",
       "<style scoped>\n",
       "    .dataframe tbody tr th:only-of-type {\n",
       "        vertical-align: middle;\n",
       "    }\n",
       "\n",
       "    .dataframe tbody tr th {\n",
       "        vertical-align: top;\n",
       "    }\n",
       "\n",
       "    .dataframe thead th {\n",
       "        text-align: right;\n",
       "    }\n",
       "</style>\n",
       "<table border=\"1\" class=\"dataframe\">\n",
       "  <thead>\n",
       "    <tr style=\"text-align: right;\">\n",
       "      <th></th>\n",
       "      <th>Adj Close</th>\n",
       "    </tr>\n",
       "    <tr>\n",
       "      <th>Date</th>\n",
       "      <th></th>\n",
       "    </tr>\n",
       "  </thead>\n",
       "  <tbody>\n",
       "    <tr>\n",
       "      <th>1992-02-18 00:00:00-05:00</th>\n",
       "      <td>1.657202</td>\n",
       "    </tr>\n",
       "    <tr>\n",
       "      <th>1992-02-19 00:00:00-05:00</th>\n",
       "      <td>1.657202</td>\n",
       "    </tr>\n",
       "    <tr>\n",
       "      <th>1992-02-20 00:00:00-05:00</th>\n",
       "      <td>1.657202</td>\n",
       "    </tr>\n",
       "    <tr>\n",
       "      <th>1992-02-21 00:00:00-05:00</th>\n",
       "      <td>1.657202</td>\n",
       "    </tr>\n",
       "    <tr>\n",
       "      <th>1992-02-24 00:00:00-05:00</th>\n",
       "      <td>1.657202</td>\n",
       "    </tr>\n",
       "    <tr>\n",
       "      <th>...</th>\n",
       "      <td>...</td>\n",
       "    </tr>\n",
       "    <tr>\n",
       "      <th>2023-04-19 00:00:00-04:00</th>\n",
       "      <td>21.920000</td>\n",
       "    </tr>\n",
       "    <tr>\n",
       "      <th>2023-04-20 00:00:00-04:00</th>\n",
       "      <td>21.799999</td>\n",
       "    </tr>\n",
       "    <tr>\n",
       "      <th>2023-04-21 00:00:00-04:00</th>\n",
       "      <td>21.790001</td>\n",
       "    </tr>\n",
       "    <tr>\n",
       "      <th>2023-04-24 00:00:00-04:00</th>\n",
       "      <td>21.840000</td>\n",
       "    </tr>\n",
       "    <tr>\n",
       "      <th>2023-04-25 00:00:00-04:00</th>\n",
       "      <td>21.570000</td>\n",
       "    </tr>\n",
       "  </tbody>\n",
       "</table>\n",
       "<p>7855 rows × 1 columns</p>\n",
       "</div>"
      ],
      "text/plain": [
       "                           Adj Close\n",
       "Date                                \n",
       "1992-02-18 00:00:00-05:00   1.657202\n",
       "1992-02-19 00:00:00-05:00   1.657202\n",
       "1992-02-20 00:00:00-05:00   1.657202\n",
       "1992-02-21 00:00:00-05:00   1.657202\n",
       "1992-02-24 00:00:00-05:00   1.657202\n",
       "...                              ...\n",
       "2023-04-19 00:00:00-04:00  21.920000\n",
       "2023-04-20 00:00:00-04:00  21.799999\n",
       "2023-04-21 00:00:00-04:00  21.790001\n",
       "2023-04-24 00:00:00-04:00  21.840000\n",
       "2023-04-25 00:00:00-04:00  21.570000\n",
       "\n",
       "[7855 rows x 1 columns]"
      ]
     },
     "execution_count": 7,
     "metadata": {},
     "output_type": "execute_result"
    }
   ],
   "source": [
    "## Shows how the data from Yahoo Finance looks\n",
    "\n",
    "fund_1 = yf.download(\"OIEIX\")[[\"Adj Close\"]]\n",
    "fund_1"
   ]
  },
  {
   "cell_type": "code",
   "execution_count": 66,
   "id": "143c6733",
   "metadata": {},
   "outputs": [
    {
     "data": {
      "text/plain": [
       "-2.5449547896996716"
      ]
     },
     "execution_count": 66,
     "metadata": {},
     "output_type": "execute_result"
    }
   ],
   "source": [
    "## Shows the value annualized function returns\n",
    "\n",
    "annualized(fund_1,1)"
   ]
  },
  {
   "cell_type": "code",
   "execution_count": 21,
   "id": "c162bd52",
   "metadata": {},
   "outputs": [
    {
     "data": {
      "text/html": [
       "<div>\n",
       "<style scoped>\n",
       "    .dataframe tbody tr th:only-of-type {\n",
       "        vertical-align: middle;\n",
       "    }\n",
       "\n",
       "    .dataframe tbody tr th {\n",
       "        vertical-align: top;\n",
       "    }\n",
       "\n",
       "    .dataframe thead th {\n",
       "        text-align: right;\n",
       "    }\n",
       "</style>\n",
       "<table border=\"1\" class=\"dataframe\">\n",
       "  <thead>\n",
       "    <tr style=\"text-align: right;\">\n",
       "      <th></th>\n",
       "      <th>Adj Close</th>\n",
       "    </tr>\n",
       "    <tr>\n",
       "      <th>Date</th>\n",
       "      <th></th>\n",
       "    </tr>\n",
       "  </thead>\n",
       "  <tbody>\n",
       "    <tr>\n",
       "      <th>2009-04-14 00:00:00-04:00</th>\n",
       "      <td>5.704672</td>\n",
       "    </tr>\n",
       "    <tr>\n",
       "      <th>2009-04-15 00:00:00-04:00</th>\n",
       "      <td>5.718396</td>\n",
       "    </tr>\n",
       "    <tr>\n",
       "      <th>2009-04-16 00:00:00-04:00</th>\n",
       "      <td>5.828188</td>\n",
       "    </tr>\n",
       "    <tr>\n",
       "      <th>2009-04-17 00:00:00-04:00</th>\n",
       "      <td>5.832764</td>\n",
       "    </tr>\n",
       "    <tr>\n",
       "      <th>2009-04-20 00:00:00-04:00</th>\n",
       "      <td>5.626901</td>\n",
       "    </tr>\n",
       "    <tr>\n",
       "      <th>...</th>\n",
       "      <td>...</td>\n",
       "    </tr>\n",
       "    <tr>\n",
       "      <th>2023-04-21 00:00:00-04:00</th>\n",
       "      <td>50.290001</td>\n",
       "    </tr>\n",
       "    <tr>\n",
       "      <th>2023-04-24 00:00:00-04:00</th>\n",
       "      <td>50.160000</td>\n",
       "    </tr>\n",
       "    <tr>\n",
       "      <th>2023-04-25 00:00:00-04:00</th>\n",
       "      <td>49.070000</td>\n",
       "    </tr>\n",
       "    <tr>\n",
       "      <th>2023-04-26 00:00:00-04:00</th>\n",
       "      <td>49.320000</td>\n",
       "    </tr>\n",
       "    <tr>\n",
       "      <th>2023-04-27 00:00:00-04:00</th>\n",
       "      <td>50.330002</td>\n",
       "    </tr>\n",
       "  </tbody>\n",
       "</table>\n",
       "<p>3535 rows × 1 columns</p>\n",
       "</div>"
      ],
      "text/plain": [
       "                           Adj Close\n",
       "Date                                \n",
       "2009-04-14 00:00:00-04:00   5.704672\n",
       "2009-04-15 00:00:00-04:00   5.718396\n",
       "2009-04-16 00:00:00-04:00   5.828188\n",
       "2009-04-17 00:00:00-04:00   5.832764\n",
       "2009-04-20 00:00:00-04:00   5.626901\n",
       "...                              ...\n",
       "2023-04-21 00:00:00-04:00  50.290001\n",
       "2023-04-24 00:00:00-04:00  50.160000\n",
       "2023-04-25 00:00:00-04:00  49.070000\n",
       "2023-04-26 00:00:00-04:00  49.320000\n",
       "2023-04-27 00:00:00-04:00  50.330002\n",
       "\n",
       "[3535 rows x 1 columns]"
      ]
     },
     "execution_count": 21,
     "metadata": {},
     "output_type": "execute_result"
    }
   ],
   "source": [
    "## How the data for each fund looks within the data dictionary created\n",
    "\n",
    "data[\"fundJLGRX\"]"
   ]
  },
  {
   "cell_type": "code",
   "execution_count": 85,
   "id": "68ce7489",
   "metadata": {},
   "outputs": [],
   "source": [
    "## The loop that created different tables for each mutual fund in the SQL database -- scrapped!\n",
    "\n",
    "for fund in data:\n",
    "    unindexed = data[fund].reset_index()\n",
    "    tbname = fund\n",
    "    table_query = \"CREATE TABLE IF NOT EXISTS {} (Date date PRIMARY KEY, Adj_Close FLOAT)\".format(tbname)\n",
    "    connection.cursor().execute(table_query)\n",
    "    connection.commit()\n",
    "    for i in range(len(data[fund])):\n",
    "        sql = \"INSERT INTO {} (Date, Adj_Close) VALUES (%s,%s)\".format(tbname)\n",
    "        date_value = unindexed.iloc[i, 0].strftime('%Y-%m-%d')\n",
    "        connection.cursor().execute(sql, (date_value, unindexed.iloc[i,1]))\n",
    "        connection.commit()"
   ]
  },
  {
   "cell_type": "code",
   "execution_count": 123,
   "id": "b8f3b980",
   "metadata": {},
   "outputs": [
    {
     "name": "stdout",
     "output_type": "stream",
     "text": [
      "('fundOIEIX', -1.38116, 2.38787, 13.9658, 9.51689, 9.7462)\n",
      "('fundJLGRX', -0.273622, -5.52802, 13.3733, 17.2703, 15.4352)\n",
      "('fundJGASX', -3.22, -6.96265, 13.1889, 15.6401, 15.4117)\n",
      "('fundFBGRX', -2.84775, -9.80218, 13.7036, 16.0034, 15.4259)\n",
      "('fundPEMPX', -2.7404, -7.56515, 0.412597, 1.95308, 1.1807)\n",
      "('fundGSCGX', 1.82758, -0.958647, 13.8049, 12.6777, 12.3142)\n",
      "('fundGGOIX', -1.15703, -10.9606, 8.80132, 10.4123, 9.93794)\n",
      "('fundVEIPX', 0.179058, 4.5908, 14.5077, 9.83061, 10.0803)\n",
      "('fundGPIRX', -1.33814, -3.20388, 6.81077, 5.3373, 4.6077)\n",
      "('fundVIVIX', -0.507799, 3.6657, 14.9412, 10.0613, 10.3186)\n"
     ]
    }
   ],
   "source": [
    "## Shows what data from SQL looks like -- and why it needs to be converted for use in python\n",
    "\n",
    "cursor = connection.cursor()\n",
    "cursor.execute(\"SELECT * FROM returns\")\n",
    "result = cursor.fetchall()\n",
    "\n",
    "for x in result:\n",
    "    print(x)"
   ]
  },
  {
   "cell_type": "code",
   "execution_count": 192,
   "id": "95fd43f2",
   "metadata": {},
   "outputs": [
    {
     "data": {
      "text/plain": [
       "tuple"
      ]
     },
     "execution_count": 192,
     "metadata": {},
     "output_type": "execute_result"
    }
   ],
   "source": [
    "type(result)"
   ]
  },
  {
   "cell_type": "code",
   "execution_count": 129,
   "id": "ff872987",
   "metadata": {},
   "outputs": [
    {
     "data": {
      "text/plain": [
       "('fundOIEIX', -1.38116, 2.38787, 13.9658, 9.51689, 9.7462)"
      ]
     },
     "execution_count": 129,
     "metadata": {},
     "output_type": "execute_result"
    }
   ],
   "source": [
    "result[0]"
   ]
  },
  {
   "cell_type": "code",
   "execution_count": 131,
   "id": "77be3437",
   "metadata": {},
   "outputs": [],
   "source": [
    "## Creating pandas df of the same\n",
    "returns = pd.DataFrame(result, columns=['Fund', '1yr','2yr','3yr','7yr','10yr'])"
   ]
  },
  {
   "cell_type": "code",
   "execution_count": 132,
   "id": "0569068f",
   "metadata": {},
   "outputs": [
    {
     "data": {
      "text/html": [
       "<div>\n",
       "<style scoped>\n",
       "    .dataframe tbody tr th:only-of-type {\n",
       "        vertical-align: middle;\n",
       "    }\n",
       "\n",
       "    .dataframe tbody tr th {\n",
       "        vertical-align: top;\n",
       "    }\n",
       "\n",
       "    .dataframe thead th {\n",
       "        text-align: right;\n",
       "    }\n",
       "</style>\n",
       "<table border=\"1\" class=\"dataframe\">\n",
       "  <thead>\n",
       "    <tr style=\"text-align: right;\">\n",
       "      <th></th>\n",
       "      <th>Fund</th>\n",
       "      <th>1yr</th>\n",
       "      <th>2yr</th>\n",
       "      <th>3yr</th>\n",
       "      <th>7yr</th>\n",
       "      <th>10yr</th>\n",
       "    </tr>\n",
       "  </thead>\n",
       "  <tbody>\n",
       "    <tr>\n",
       "      <th>0</th>\n",
       "      <td>fundOIEIX</td>\n",
       "      <td>-1.381160</td>\n",
       "      <td>2.387870</td>\n",
       "      <td>13.965800</td>\n",
       "      <td>9.51689</td>\n",
       "      <td>9.74620</td>\n",
       "    </tr>\n",
       "    <tr>\n",
       "      <th>1</th>\n",
       "      <td>fundJLGRX</td>\n",
       "      <td>-0.273622</td>\n",
       "      <td>-5.528020</td>\n",
       "      <td>13.373300</td>\n",
       "      <td>17.27030</td>\n",
       "      <td>15.43520</td>\n",
       "    </tr>\n",
       "    <tr>\n",
       "      <th>2</th>\n",
       "      <td>fundJGASX</td>\n",
       "      <td>-3.220000</td>\n",
       "      <td>-6.962650</td>\n",
       "      <td>13.188900</td>\n",
       "      <td>15.64010</td>\n",
       "      <td>15.41170</td>\n",
       "    </tr>\n",
       "    <tr>\n",
       "      <th>3</th>\n",
       "      <td>fundFBGRX</td>\n",
       "      <td>-2.847750</td>\n",
       "      <td>-9.802180</td>\n",
       "      <td>13.703600</td>\n",
       "      <td>16.00340</td>\n",
       "      <td>15.42590</td>\n",
       "    </tr>\n",
       "    <tr>\n",
       "      <th>4</th>\n",
       "      <td>fundPEMPX</td>\n",
       "      <td>-2.740400</td>\n",
       "      <td>-7.565150</td>\n",
       "      <td>0.412597</td>\n",
       "      <td>1.95308</td>\n",
       "      <td>1.18070</td>\n",
       "    </tr>\n",
       "    <tr>\n",
       "      <th>5</th>\n",
       "      <td>fundGSCGX</td>\n",
       "      <td>1.827580</td>\n",
       "      <td>-0.958647</td>\n",
       "      <td>13.804900</td>\n",
       "      <td>12.67770</td>\n",
       "      <td>12.31420</td>\n",
       "    </tr>\n",
       "    <tr>\n",
       "      <th>6</th>\n",
       "      <td>fundGGOIX</td>\n",
       "      <td>-1.157030</td>\n",
       "      <td>-10.960600</td>\n",
       "      <td>8.801320</td>\n",
       "      <td>10.41230</td>\n",
       "      <td>9.93794</td>\n",
       "    </tr>\n",
       "    <tr>\n",
       "      <th>7</th>\n",
       "      <td>fundVEIPX</td>\n",
       "      <td>0.179058</td>\n",
       "      <td>4.590800</td>\n",
       "      <td>14.507700</td>\n",
       "      <td>9.83061</td>\n",
       "      <td>10.08030</td>\n",
       "    </tr>\n",
       "    <tr>\n",
       "      <th>8</th>\n",
       "      <td>fundGPIRX</td>\n",
       "      <td>-1.338140</td>\n",
       "      <td>-3.203880</td>\n",
       "      <td>6.810770</td>\n",
       "      <td>5.33730</td>\n",
       "      <td>4.60770</td>\n",
       "    </tr>\n",
       "    <tr>\n",
       "      <th>9</th>\n",
       "      <td>fundVIVIX</td>\n",
       "      <td>-0.507799</td>\n",
       "      <td>3.665700</td>\n",
       "      <td>14.941200</td>\n",
       "      <td>10.06130</td>\n",
       "      <td>10.31860</td>\n",
       "    </tr>\n",
       "  </tbody>\n",
       "</table>\n",
       "</div>"
      ],
      "text/plain": [
       "        Fund       1yr        2yr        3yr       7yr      10yr\n",
       "0  fundOIEIX -1.381160   2.387870  13.965800   9.51689   9.74620\n",
       "1  fundJLGRX -0.273622  -5.528020  13.373300  17.27030  15.43520\n",
       "2  fundJGASX -3.220000  -6.962650  13.188900  15.64010  15.41170\n",
       "3  fundFBGRX -2.847750  -9.802180  13.703600  16.00340  15.42590\n",
       "4  fundPEMPX -2.740400  -7.565150   0.412597   1.95308   1.18070\n",
       "5  fundGSCGX  1.827580  -0.958647  13.804900  12.67770  12.31420\n",
       "6  fundGGOIX -1.157030 -10.960600   8.801320  10.41230   9.93794\n",
       "7  fundVEIPX  0.179058   4.590800  14.507700   9.83061  10.08030\n",
       "8  fundGPIRX -1.338140  -3.203880   6.810770   5.33730   4.60770\n",
       "9  fundVIVIX -0.507799   3.665700  14.941200  10.06130  10.31860"
      ]
     },
     "execution_count": 132,
     "metadata": {},
     "output_type": "execute_result"
    }
   ],
   "source": [
    "returns"
   ]
  },
  {
   "cell_type": "code",
   "execution_count": 310,
   "id": "c6c58ac2",
   "metadata": {},
   "outputs": [],
   "source": [
    "## Exporting returns table as CSV for DashboardExecutable file\n",
    "\n",
    "returns.to_csv('C:/Users/agarw/Desktop/returns.csv')"
   ]
  }
 ],
 "metadata": {
  "kernelspec": {
   "display_name": "Python 3 (ipykernel)",
   "language": "python",
   "name": "python3"
  },
  "language_info": {
   "codemirror_mode": {
    "name": "ipython",
    "version": 3
   },
   "file_extension": ".py",
   "mimetype": "text/x-python",
   "name": "python",
   "nbconvert_exporter": "python",
   "pygments_lexer": "ipython3",
   "version": "3.9.13"
  }
 },
 "nbformat": 4,
 "nbformat_minor": 5
}
